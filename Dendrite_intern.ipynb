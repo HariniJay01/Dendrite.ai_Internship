{
  "nbformat": 4,
  "nbformat_minor": 0,
  "metadata": {
    "colab": {
      "provenance": []
    },
    "kernelspec": {
      "name": "python3",
      "display_name": "Python 3"
    },
    "language_info": {
      "name": "python"
    }
  },
  "cells": [
    {
      "cell_type": "code",
      "execution_count": 20,
      "metadata": {
        "id": "Wk7BLjfbEFSC"
      },
      "outputs": [],
      "source": [
        "import pandas as pd\n",
        "import json\n",
        "from sklearn.ensemble import RandomForestRegressor\n",
        "from sklearn.model_selection import GridSearchCV,TimeSeriesSplit"
      ]
    },
    {
      "cell_type": "markdown",
      "source": [
        "1. READING THE JSON FILE"
      ],
      "metadata": {
        "id": "wFLSK6vKLjXA"
      }
    },
    {
      "cell_type": "code",
      "source": [
        "f=open('algoparams_from_ui.txt')\n",
        "data=json.load(f)"
      ],
      "metadata": {
        "id": "IY33Y7ljEHBT"
      },
      "execution_count": 21,
      "outputs": []
    },
    {
      "cell_type": "markdown",
      "source": [
        "2. READING THE CSV FILE"
      ],
      "metadata": {
        "id": "ZL406ZhfLmkM"
      }
    },
    {
      "cell_type": "code",
      "source": [
        "df=pd.read_csv('iris.csv')"
      ],
      "metadata": {
        "id": "OGQDD-1tEUc4"
      },
      "execution_count": 22,
      "outputs": []
    },
    {
      "cell_type": "markdown",
      "source": [
        "3. READING THE TARGET VARIABLE AND PREDICTION TYPE"
      ],
      "metadata": {
        "id": "LN93RABTLqbb"
      }
    },
    {
      "cell_type": "code",
      "source": [
        "target_col=data['design_state_data']['target']['target']\n",
        "pred_type=data['design_state_data']['target']['prediction_type']"
      ],
      "metadata": {
        "id": "u3n0KXEnEgtk"
      },
      "execution_count": 23,
      "outputs": []
    },
    {
      "cell_type": "markdown",
      "source": [
        "4. HANDLING MISSING VALUES"
      ],
      "metadata": {
        "id": "6MN67Gc-LxE7"
      }
    },
    {
      "cell_type": "code",
      "source": [
        "fh=data['design_state_data']['feature_handling']\n",
        "for i in fh:\n",
        "  feature_name=fh[i]['feature_name']\n",
        "  feature_details=fh[i]['feature_details']\n",
        "  if len(feature_details)>2 and feature_details['missing_values']==\"Impute\":\n",
        "    impute_with=feature_details['impute_with']\n",
        "    if impute_with==\"Average of values\":\n",
        "      df[feature_name]=df[feature_name].fillna(df[feature_name].mean())\n",
        "    else:\n",
        "      df[feature_name]=df[feature_name].fillna(df[feature_name].max())\n"
      ],
      "metadata": {
        "id": "KNETpFFIFTVK"
      },
      "execution_count": 24,
      "outputs": []
    },
    {
      "cell_type": "markdown",
      "source": [
        "5. FEATURE REDUCTION"
      ],
      "metadata": {
        "id": "oBwMJDvCL3wx"
      }
    },
    {
      "cell_type": "markdown",
      "source": [
        "Tree-based (Random Forest):"
      ],
      "metadata": {
        "id": "MH2mV3ZRO57W"
      }
    },
    {
      "cell_type": "code",
      "source": [
        "feat_to_keep=int(data['design_state_data']['feature_reduction']['num_of_features_to_keep'])\n",
        "trees=int(data['design_state_data']['feature_reduction']['num_of_trees'])\n",
        "depth=int(data['design_state_data']['feature_reduction']['depth_of_trees'])\n",
        "df = pd.get_dummies(df, columns=['species'])\n",
        "\n",
        "rf=RandomForestRegressor(\n",
        "    n_estimators=trees,\n",
        "    max_depth=depth,\n",
        "    max_features=feat_to_keep)"
      ],
      "metadata": {
        "id": "TGNxyDtbOGvE"
      },
      "execution_count": 25,
      "outputs": []
    },
    {
      "cell_type": "code",
      "source": [
        "X=df.drop(target_col,axis=1)\n",
        "y=df[target_col]\n",
        "\n",
        "rf.fit(X,y)"
      ],
      "metadata": {
        "colab": {
          "base_uri": "https://localhost:8080/",
          "height": 74
        },
        "id": "1ySvVmWgPOa3",
        "outputId": "55bf3640-a1a4-4376-d630-60d62f2aa915"
      },
      "execution_count": 26,
      "outputs": [
        {
          "output_type": "execute_result",
          "data": {
            "text/plain": [
              "RandomForestRegressor(max_depth=6, max_features=4, n_estimators=5)"
            ],
            "text/html": [
              "<style>#sk-container-id-2 {color: black;}#sk-container-id-2 pre{padding: 0;}#sk-container-id-2 div.sk-toggleable {background-color: white;}#sk-container-id-2 label.sk-toggleable__label {cursor: pointer;display: block;width: 100%;margin-bottom: 0;padding: 0.3em;box-sizing: border-box;text-align: center;}#sk-container-id-2 label.sk-toggleable__label-arrow:before {content: \"▸\";float: left;margin-right: 0.25em;color: #696969;}#sk-container-id-2 label.sk-toggleable__label-arrow:hover:before {color: black;}#sk-container-id-2 div.sk-estimator:hover label.sk-toggleable__label-arrow:before {color: black;}#sk-container-id-2 div.sk-toggleable__content {max-height: 0;max-width: 0;overflow: hidden;text-align: left;background-color: #f0f8ff;}#sk-container-id-2 div.sk-toggleable__content pre {margin: 0.2em;color: black;border-radius: 0.25em;background-color: #f0f8ff;}#sk-container-id-2 input.sk-toggleable__control:checked~div.sk-toggleable__content {max-height: 200px;max-width: 100%;overflow: auto;}#sk-container-id-2 input.sk-toggleable__control:checked~label.sk-toggleable__label-arrow:before {content: \"▾\";}#sk-container-id-2 div.sk-estimator input.sk-toggleable__control:checked~label.sk-toggleable__label {background-color: #d4ebff;}#sk-container-id-2 div.sk-label input.sk-toggleable__control:checked~label.sk-toggleable__label {background-color: #d4ebff;}#sk-container-id-2 input.sk-hidden--visually {border: 0;clip: rect(1px 1px 1px 1px);clip: rect(1px, 1px, 1px, 1px);height: 1px;margin: -1px;overflow: hidden;padding: 0;position: absolute;width: 1px;}#sk-container-id-2 div.sk-estimator {font-family: monospace;background-color: #f0f8ff;border: 1px dotted black;border-radius: 0.25em;box-sizing: border-box;margin-bottom: 0.5em;}#sk-container-id-2 div.sk-estimator:hover {background-color: #d4ebff;}#sk-container-id-2 div.sk-parallel-item::after {content: \"\";width: 100%;border-bottom: 1px solid gray;flex-grow: 1;}#sk-container-id-2 div.sk-label:hover label.sk-toggleable__label {background-color: #d4ebff;}#sk-container-id-2 div.sk-serial::before {content: \"\";position: absolute;border-left: 1px solid gray;box-sizing: border-box;top: 0;bottom: 0;left: 50%;z-index: 0;}#sk-container-id-2 div.sk-serial {display: flex;flex-direction: column;align-items: center;background-color: white;padding-right: 0.2em;padding-left: 0.2em;position: relative;}#sk-container-id-2 div.sk-item {position: relative;z-index: 1;}#sk-container-id-2 div.sk-parallel {display: flex;align-items: stretch;justify-content: center;background-color: white;position: relative;}#sk-container-id-2 div.sk-item::before, #sk-container-id-2 div.sk-parallel-item::before {content: \"\";position: absolute;border-left: 1px solid gray;box-sizing: border-box;top: 0;bottom: 0;left: 50%;z-index: -1;}#sk-container-id-2 div.sk-parallel-item {display: flex;flex-direction: column;z-index: 1;position: relative;background-color: white;}#sk-container-id-2 div.sk-parallel-item:first-child::after {align-self: flex-end;width: 50%;}#sk-container-id-2 div.sk-parallel-item:last-child::after {align-self: flex-start;width: 50%;}#sk-container-id-2 div.sk-parallel-item:only-child::after {width: 0;}#sk-container-id-2 div.sk-dashed-wrapped {border: 1px dashed gray;margin: 0 0.4em 0.5em 0.4em;box-sizing: border-box;padding-bottom: 0.4em;background-color: white;}#sk-container-id-2 div.sk-label label {font-family: monospace;font-weight: bold;display: inline-block;line-height: 1.2em;}#sk-container-id-2 div.sk-label-container {text-align: center;}#sk-container-id-2 div.sk-container {/* jupyter's `normalize.less` sets `[hidden] { display: none; }` but bootstrap.min.css set `[hidden] { display: none !important; }` so we also need the `!important` here to be able to override the default hidden behavior on the sphinx rendered scikit-learn.org. See: https://github.com/scikit-learn/scikit-learn/issues/21755 */display: inline-block !important;position: relative;}#sk-container-id-2 div.sk-text-repr-fallback {display: none;}</style><div id=\"sk-container-id-2\" class=\"sk-top-container\"><div class=\"sk-text-repr-fallback\"><pre>RandomForestRegressor(max_depth=6, max_features=4, n_estimators=5)</pre><b>In a Jupyter environment, please rerun this cell to show the HTML representation or trust the notebook. <br />On GitHub, the HTML representation is unable to render, please try loading this page with nbviewer.org.</b></div><div class=\"sk-container\" hidden><div class=\"sk-item\"><div class=\"sk-estimator sk-toggleable\"><input class=\"sk-toggleable__control sk-hidden--visually\" id=\"sk-estimator-id-2\" type=\"checkbox\" checked><label for=\"sk-estimator-id-2\" class=\"sk-toggleable__label sk-toggleable__label-arrow\">RandomForestRegressor</label><div class=\"sk-toggleable__content\"><pre>RandomForestRegressor(max_depth=6, max_features=4, n_estimators=5)</pre></div></div></div></div></div>"
            ]
          },
          "metadata": {},
          "execution_count": 26
        }
      ]
    },
    {
      "cell_type": "code",
      "source": [
        "imp=rf.feature_importances_\n",
        "selected_features=df.columns[::-1][imp.argsort()[::-1]]"
      ],
      "metadata": {
        "id": "uCqvTxOHRycX"
      },
      "execution_count": 27,
      "outputs": []
    },
    {
      "cell_type": "code",
      "source": [
        "print(selected_features)"
      ],
      "metadata": {
        "colab": {
          "base_uri": "https://localhost:8080/"
        },
        "id": "g-Q4WU_cdeQa",
        "outputId": "10fd2aa1-cb9f-44dd-a678-109460f432ea"
      },
      "execution_count": 28,
      "outputs": [
        {
          "output_type": "stream",
          "name": "stdout",
          "text": [
            "Index(['petal_width', 'species_Iris-setosa', 'sepal_width', 'petal_length',\n",
            "       'species_Iris-versicolor', 'species_Iris-virginica'],\n",
            "      dtype='object')\n"
          ]
        }
      ]
    },
    {
      "cell_type": "markdown",
      "source": [
        "6. PREDICTION MODEL"
      ],
      "metadata": {
        "id": "UG5VPAz_iyiG"
      }
    },
    {
      "cell_type": "code",
      "source": [
        "model=data['design_state_data']['algorithms']['RandomForestRegressor']\n",
        "if model['is_selected'] and pred_type=='Regression':\n",
        "    a=df.drop(target_col,axis=1)\n",
        "    b=df[target_col]\n",
        "    b=b.astype(float)\n",
        "    min_trees=int(model['min_trees'])\n",
        "    max_trees=int(model['max_trees'])\n",
        "    min_depth=int(model['min_depth'])\n",
        "    max_depth=int(model['max_depth'])\n",
        "    min_sample_value=int(model['min_samples_per_leaf_min_value'])\n",
        "    max_sample_value=int(model['min_samples_per_leaf_max_value'])\n",
        "    param_grid={'n_estimators':list(range(min_trees,max_trees+1)),\n",
        "                'max_depth':list(range(min_depth,max_depth+1)),\n",
        "                'min_samples_split': list(range(min_sample_value,max_sample_value+1)),\n",
        "                'min_samples_leaf': list(range(min_sample_value,max_sample_value+1))}\n",
        "    strategy=data['design_state_data']['hyperparameters']['cross_validation_stratergy']\n",
        "    cv_num=int(data['design_state_data']['hyperparameters']['num_of_folds'])\n",
        "    rf_reg=RandomForestRegressor(random_state=0)\n",
        "    test_size = int(len(a) * 0.2)\n",
        "    gs=GridSearchCV(estimator=rf_reg,param_grid=param_grid,cv=TimeSeriesSplit(n_splits=cv_num//2,test_size=test_size),scoring='neg_root_mean_squared_error')\n",
        "    gs.fit(a,b)\n",
        "    best_params=gs.best_params_\n",
        "    score=-gs.best_score_"
      ],
      "metadata": {
        "id": "cfHbZfEPe106"
      },
      "execution_count": 29,
      "outputs": []
    },
    {
      "cell_type": "code",
      "source": [
        "print(best_params)\n",
        "print(score)\n"
      ],
      "metadata": {
        "colab": {
          "base_uri": "https://localhost:8080/"
        },
        "id": "LtRSjWxpuzo_",
        "outputId": "8ac7ad94-ea65-41e4-b003-3bf84513b4fb"
      },
      "execution_count": 30,
      "outputs": [
        {
          "output_type": "stream",
          "name": "stdout",
          "text": [
            "{'max_depth': 20, 'min_samples_leaf': 5, 'min_samples_split': 5, 'n_estimators': 13}\n",
            "0.3788061138762633\n"
          ]
        }
      ]
    },
    {
      "cell_type": "code",
      "source": [],
      "metadata": {
        "id": "6yaem0UrfePX"
      },
      "execution_count": 31,
      "outputs": []
    }
  ]
}